{
  "nbformat": 4,
  "nbformat_minor": 0,
  "metadata": {
    "colab": {
      "provenance": []
    },
    "kernelspec": {
      "name": "python3",
      "display_name": "Python 3"
    },
    "language_info": {
      "name": "python"
    }
  },
  "cells": [
    {
      "cell_type": "code",
      "execution_count": null,
      "metadata": {
        "id": "Jgt4iL1cnYZc"
      },
      "outputs": [],
      "source": [
        "import tensorflow as tf\n",
        "from tensorflow.keras.models import Sequential\n",
        "from tensorflow.keras.optimizers import SGD,Adam,RMSprop, Adagrad\n",
        "from tensorflow.keras.layers import Dense\n",
        "import matplotlib.pyplot as plt"
      ]
    },
    {
      "cell_type": "code",
      "source": [
        "#load dataset\n",
        "(X_train,y_train),(X_test,y_test)=tf.keras.datasets.mnist.load_data()\n",
        "'''\n",
        "(X_train,y_train),(X_test,y_test)=tf.keras.datasets.mnist.load_data():\n",
        "loads the MNIST dataset, splitting it into training and testing sets.\n",
        "X_train=X_train.reshape(X_train.shape[0],-1.astype('float32;)/255):\n",
        "reshapes the training data from 28*28 images to 784-dimensional vectors,\n",
        "convert them to float32, and normalizes the pixel values to the range [0,1].\n",
        "X_test=X_test.reshape(X_test.shape[0],-1).astype('float32')/255:\n",
        "similarly, reshapes and normalizes the testing data.\n",
        "'''\n",
        "X_train=X_train.reshape(X_train.shape[0],-1).astype('float32')/255\n",
        "'''X_train contains 60,000 images of size 28*28 , then X_train.shape\n",
        "whould be(60000,28,28)\n",
        "X_train.shape[0] accesses the first element of this tuple\n",
        ",which represents the number of images in the training set.\n",
        "In this example , X_train.shape[0] is equal to 60000.\n",
        "'''\n",
        "X_test=X_test.reshape(X_test.shape[0],-1).astype('float32')/255\n",
        "\n",
        "#Define the model\n",
        "def create_model():\n",
        "    model=Sequential([\n",
        "              Dense(128,activation='relu',input_shape=(784,)),\n",
        "              Dense(64,activation='relu'),\n",
        "              Dense(10,activation='softmax')\n",
        "              ])\n",
        "    return model\n",
        "\n"
      ],
      "metadata": {
        "id": "ukp4XtTyq7Do"
      },
      "execution_count": null,
      "outputs": []
    },
    {
      "cell_type": "code",
      "source": [
        "#define optimizers\n",
        "optimizers={\n",
        "    'SGD':SGD(),\n",
        "    'Adam':Adam(),\n",
        "    'RMSprop':RMSprop(),\n",
        "    'Adagrad':Adagrad()\n",
        "}"
      ],
      "metadata": {
        "id": "48PAXqLXtpY6"
      },
      "execution_count": null,
      "outputs": []
    },
    {
      "cell_type": "code",
      "source": [
        "#train model with different optimizers\n",
        "history={}\n",
        "for optimizer_name,optimizer in optimizers.items():\n",
        "    print(f\"Training with {optimizer_name} optimizer....\")\n",
        "    model=create_model()\n",
        "    model.compile(optimizer=optimizer,loss='sparse_categorical_crossentropy',metrics=['accuracy'])\n",
        "    history[optimizer_name]=model.fit(X_train,y_train,epochs=5,batch_size=32,validation_split=0.2,verbose=0)\n",
        "#"
      ],
      "metadata": {
        "colab": {
          "base_uri": "https://localhost:8080/"
        },
        "id": "UVsJj5rit7sz",
        "outputId": "c43d49bb-b633-483c-f7b8-44dd56e6f522"
      },
      "execution_count": null,
      "outputs": [
        {
          "output_type": "stream",
          "name": "stdout",
          "text": [
            "Training with SGD optimizer....\n",
            "Training with Adam optimizer....\n",
            "Training with RMSprop optimizer....\n",
            "Training with Adagrad optimizer....\n"
          ]
        }
      ]
    },
    {
      "cell_type": "markdown",
      "source": [],
      "metadata": {
        "id": "3ZHjUhZLSiC2"
      }
    },
    {
      "cell_type": "code",
      "source": [
        "!pip install gitpython\n"
      ],
      "metadata": {
        "colab": {
          "base_uri": "https://localhost:8080/"
        },
        "id": "77mkeuQUTwWY",
        "outputId": "063cc024-59c6-437b-d9e4-b13cc56020d3"
      },
      "execution_count": null,
      "outputs": [
        {
          "output_type": "stream",
          "name": "stdout",
          "text": [
            "Collecting gitpython\n",
            "  Downloading GitPython-3.1.43-py3-none-any.whl.metadata (13 kB)\n",
            "Collecting gitdb<5,>=4.0.1 (from gitpython)\n",
            "  Downloading gitdb-4.0.11-py3-none-any.whl.metadata (1.2 kB)\n",
            "Collecting smmap<6,>=3.0.1 (from gitdb<5,>=4.0.1->gitpython)\n",
            "  Downloading smmap-5.0.1-py3-none-any.whl.metadata (4.3 kB)\n",
            "Downloading GitPython-3.1.43-py3-none-any.whl (207 kB)\n",
            "\u001b[2K   \u001b[90m━━━━━━━━━━━━━━━━━━━━━━━━━━━━━━━━━━━━━━━━\u001b[0m \u001b[32m207.3/207.3 kB\u001b[0m \u001b[31m4.3 MB/s\u001b[0m eta \u001b[36m0:00:00\u001b[0m\n",
            "\u001b[?25hDownloading gitdb-4.0.11-py3-none-any.whl (62 kB)\n",
            "\u001b[2K   \u001b[90m━━━━━━━━━━━━━━━━━━━━━━━━━━━━━━━━━━━━━━━━\u001b[0m \u001b[32m62.7/62.7 kB\u001b[0m \u001b[31m4.6 MB/s\u001b[0m eta \u001b[36m0:00:00\u001b[0m\n",
            "\u001b[?25hDownloading smmap-5.0.1-py3-none-any.whl (24 kB)\n",
            "Installing collected packages: smmap, gitdb, gitpython\n",
            "Successfully installed gitdb-4.0.11 gitpython-3.1.43 smmap-5.0.1\n"
          ]
        }
      ]
    },
    {
      "cell_type": "code",
      "source": [
        "from git import Repo\n",
        "\n",
        "# Define the URL of your GitHub repository and the directory to clone into\n",
        "repo_url = 'https://github.com/Aditi-bairagi61/Machine_learning'\n",
        "repo_dir = '/content/Machine_learning'  # You can name the directory anything you like\n",
        "\n",
        "# Clone the repository\n",
        "Repo.clone_from(repo_url, repo_dir)\n",
        "\n",
        "print(f'Repository cloned to {repo_dir}')\n"
      ],
      "metadata": {
        "colab": {
          "base_uri": "https://localhost:8080/"
        },
        "id": "fnulv8sOUNzV",
        "outputId": "573504df-9318-493e-bc57-dd8c1aef60c7"
      },
      "execution_count": null,
      "outputs": [
        {
          "output_type": "stream",
          "name": "stdout",
          "text": [
            "Repository cloned to /content/Machine_learning\n"
          ]
        }
      ]
    }
  ]
}